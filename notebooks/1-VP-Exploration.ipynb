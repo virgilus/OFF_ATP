{
 "cells": [
  {
   "cell_type": "code",
   "execution_count": 11,
   "id": "15230f67-30dc-4c57-9e89-e0160629fc69",
   "metadata": {
    "tags": []
   },
   "outputs": [],
   "source": [
    "import pandas as pd\n",
    "import numpy as np"
   ]
  },
  {
   "cell_type": "code",
   "execution_count": 12,
   "id": "d91d1af1-0fe5-48a1-9eb2-6e9866a90e67",
   "metadata": {
    "tags": []
   },
   "outputs": [],
   "source": [
    "OFF_FILEPATH = \"../data/raw/en.openfoodfacts.org.products.csv.gz\""
   ]
  },
  {
   "cell_type": "code",
   "execution_count": 41,
   "id": "7c3a4ce1-bd92-49c9-9144-0c555ed20725",
   "metadata": {
    "tags": []
   },
   "outputs": [],
   "source": [
    "cols = {'product_name': 'string',\n",
    "        'main_category_en': 'category',\n",
    "        'energy-kcal_100g': 'object',\n",
    "        'nutriscore_grade': 'category',\n",
    "        'nutriscore_score': 'float32',\n",
    "        'ingredients_text': 'string'}"
   ]
  },
  {
   "cell_type": "code",
   "execution_count": 44,
   "id": "95e67898-822f-4d00-aead-01525ba49a78",
   "metadata": {
    "tags": []
   },
   "outputs": [
    {
     "name": "stdout",
     "output_type": "stream",
     "text": [
      "CPU times: total: 25.5 s\n",
      "Wall time: 25.6 s\n"
     ]
    }
   ],
   "source": [
    "%%time\n",
    "nrows = 1_000_000\n",
    "chunksize = 20_000\n",
    "df = pd.DataFrame() # Creates an empty dataframe\n",
    "for chunk_df in pd.read_csv(OFF_FILEPATH,\n",
    "            sep='\\t',\n",
    "            nrows=nrows,\n",
    "            usecols=cols.keys(),\n",
    "            dtype=cols,\n",
    "            chunksize=chunksize,\n",
    "            on_bad_lines='skip',\n",
    "                ):\n",
    "    df = pd.concat([df, chunk_df.dropna()])"
   ]
  },
  {
   "cell_type": "code",
   "execution_count": 47,
   "id": "1bade98f-22be-4682-84af-b196147422e7",
   "metadata": {
    "tags": []
   },
   "outputs": [
    {
     "data": {
      "text/html": [
       "<div>\n",
       "<style scoped>\n",
       "    .dataframe tbody tr th:only-of-type {\n",
       "        vertical-align: middle;\n",
       "    }\n",
       "\n",
       "    .dataframe tbody tr th {\n",
       "        vertical-align: top;\n",
       "    }\n",
       "\n",
       "    .dataframe thead th {\n",
       "        text-align: right;\n",
       "    }\n",
       "</style>\n",
       "<table border=\"1\" class=\"dataframe\">\n",
       "  <thead>\n",
       "    <tr style=\"text-align: right;\">\n",
       "      <th></th>\n",
       "      <th>product_name</th>\n",
       "      <th>ingredients_text</th>\n",
       "      <th>nutriscore_score</th>\n",
       "      <th>nutriscore_grade</th>\n",
       "      <th>main_category_en</th>\n",
       "      <th>energy-kcal_100g</th>\n",
       "    </tr>\n",
       "  </thead>\n",
       "  <tbody>\n",
       "    <tr>\n",
       "      <th>912352</th>\n",
       "      <td>Lardons</td>\n",
       "      <td>viande de pore (Suisse), lard (Suisse), sel ni...</td>\n",
       "      <td>27.0</td>\n",
       "      <td>e</td>\n",
       "      <td>Lardons</td>\n",
       "      <td>995</td>\n",
       "    </tr>\n",
       "  </tbody>\n",
       "</table>\n",
       "</div>"
      ],
      "text/plain": [
       "       product_name                                   ingredients_text  \\\n",
       "912352      Lardons  viande de pore (Suisse), lard (Suisse), sel ni...   \n",
       "\n",
       "        nutriscore_score nutriscore_grade main_category_en energy-kcal_100g  \n",
       "912352              27.0                e          Lardons              995  "
      ]
     },
     "execution_count": 47,
     "metadata": {},
     "output_type": "execute_result"
    }
   ],
   "source": [
    "df.loc[df['energy-kcal_100g'] == df['energy-kcal_100g'].max()]"
   ]
  },
  {
   "cell_type": "code",
   "execution_count": null,
   "id": "c2366260-50cf-4b4c-98b7-6dd34d402492",
   "metadata": {
    "tags": []
   },
   "outputs": [],
   "source": [
    "# Create a program!\n",
    "df.groupby('main_category_en')['energy-kcal_100g'].mean()"
   ]
  },
  {
   "cell_type": "code",
   "execution_count": 49,
   "id": "cf3250a1-864c-41a7-a4e5-48fc738f2388",
   "metadata": {
    "tags": []
   },
   "outputs": [
    {
     "data": {
      "text/plain": [
       "81                                  BAguette bressan\n",
       "199                                  Pâte a tartiner\n",
       "309                                      Cranberries\n",
       "371                                     Salade Cesar\n",
       "420                     Chaussons tressés aux pommes\n",
       "                             ...                    \n",
       "999968    Aceitunas verdes rellenas de pimiento rojo\n",
       "999982                               Arándanos rojos\n",
       "999987            Aceituna gordal deshuesada aliñada\n",
       "999990                  Aceitunas rellenas de anchoa\n",
       "999995                     Sirope de agave ecológico\n",
       "Name: product_name, Length: 278221, dtype: string"
      ]
     },
     "execution_count": 49,
     "metadata": {},
     "output_type": "execute_result"
    }
   ],
   "source": [
    "df['product_name']"
   ]
  },
  {
   "cell_type": "code",
   "execution_count": null,
   "id": "8d3e1b82-d188-4d10-8e6b-15bf2941d91c",
   "metadata": {},
   "outputs": [],
   "source": []
  },
  {
   "cell_type": "code",
   "execution_count": 7,
   "id": "fbefab54-b1ff-41f6-a853-e4bb34569206",
   "metadata": {
    "tags": []
   },
   "outputs": [
    {
     "name": "stdout",
     "output_type": "stream",
     "text": [
      "code\n",
      "url\n",
      "creator\n",
      "created_t\n",
      "created_datetime\n",
      "last_modified_t\n",
      "last_modified_datetime\n",
      "last_modified_by\n",
      "product_name\n",
      "abbreviated_product_name\n",
      "generic_name\n",
      "quantity\n",
      "packaging\n",
      "packaging_tags\n",
      "packaging_en\n",
      "packaging_text\n",
      "brands\n",
      "brands_tags\n",
      "categories\n",
      "categories_tags\n",
      "categories_en\n",
      "origins\n",
      "origins_tags\n",
      "origins_en\n",
      "manufacturing_places\n",
      "manufacturing_places_tags\n",
      "labels\n",
      "labels_tags\n",
      "labels_en\n",
      "emb_codes\n",
      "emb_codes_tags\n",
      "first_packaging_code_geo\n",
      "cities\n",
      "cities_tags\n",
      "purchase_places\n",
      "stores\n",
      "countries\n",
      "countries_tags\n",
      "countries_en\n",
      "ingredients_text\n",
      "ingredients_tags\n",
      "ingredients_analysis_tags\n",
      "allergens\n",
      "allergens_en\n",
      "traces\n",
      "traces_tags\n",
      "traces_en\n",
      "serving_size\n",
      "serving_quantity\n",
      "no_nutrition_data\n",
      "additives_n\n",
      "additives\n",
      "additives_tags\n",
      "additives_en\n",
      "nutriscore_score\n",
      "nutriscore_grade\n",
      "nova_group\n",
      "pnns_groups_1\n",
      "pnns_groups_2\n",
      "food_groups\n",
      "food_groups_tags\n",
      "food_groups_en\n",
      "states\n",
      "states_tags\n",
      "states_en\n",
      "brand_owner\n",
      "ecoscore_score\n",
      "ecoscore_grade\n",
      "nutrient_levels_tags\n",
      "product_quantity\n",
      "owner\n",
      "data_quality_errors_tags\n",
      "unique_scans_n\n",
      "popularity_tags\n",
      "completeness\n",
      "last_image_t\n",
      "last_image_datetime\n",
      "main_category\n",
      "main_category_en\n",
      "image_url\n",
      "image_small_url\n",
      "image_ingredients_url\n",
      "image_ingredients_small_url\n",
      "image_nutrition_url\n",
      "image_nutrition_small_url\n",
      "energy-kj_100g\n",
      "energy-kcal_100g\n",
      "energy_100g\n",
      "energy-from-fat_100g\n",
      "fat_100g\n",
      "saturated-fat_100g\n",
      "butyric-acid_100g\n",
      "caproic-acid_100g\n",
      "caprylic-acid_100g\n",
      "capric-acid_100g\n",
      "lauric-acid_100g\n",
      "myristic-acid_100g\n",
      "palmitic-acid_100g\n",
      "stearic-acid_100g\n",
      "arachidic-acid_100g\n",
      "behenic-acid_100g\n",
      "lignoceric-acid_100g\n",
      "cerotic-acid_100g\n",
      "montanic-acid_100g\n",
      "melissic-acid_100g\n",
      "unsaturated-fat_100g\n",
      "monounsaturated-fat_100g\n",
      "polyunsaturated-fat_100g\n",
      "omega-3-fat_100g\n",
      "alpha-linolenic-acid_100g\n",
      "eicosapentaenoic-acid_100g\n",
      "docosahexaenoic-acid_100g\n",
      "omega-6-fat_100g\n",
      "linoleic-acid_100g\n",
      "arachidonic-acid_100g\n",
      "gamma-linolenic-acid_100g\n",
      "dihomo-gamma-linolenic-acid_100g\n",
      "omega-9-fat_100g\n",
      "oleic-acid_100g\n",
      "elaidic-acid_100g\n",
      "gondoic-acid_100g\n",
      "mead-acid_100g\n",
      "erucic-acid_100g\n",
      "nervonic-acid_100g\n",
      "trans-fat_100g\n",
      "cholesterol_100g\n",
      "carbohydrates_100g\n",
      "sugars_100g\n",
      "added-sugars_100g\n",
      "sucrose_100g\n",
      "glucose_100g\n",
      "fructose_100g\n",
      "lactose_100g\n",
      "maltose_100g\n",
      "maltodextrins_100g\n",
      "starch_100g\n",
      "polyols_100g\n",
      "erythritol_100g\n",
      "fiber_100g\n",
      "soluble-fiber_100g\n",
      "insoluble-fiber_100g\n",
      "proteins_100g\n",
      "casein_100g\n",
      "serum-proteins_100g\n",
      "nucleotides_100g\n",
      "salt_100g\n",
      "added-salt_100g\n",
      "sodium_100g\n",
      "alcohol_100g\n",
      "vitamin-a_100g\n",
      "beta-carotene_100g\n",
      "vitamin-d_100g\n",
      "vitamin-e_100g\n",
      "vitamin-k_100g\n",
      "vitamin-c_100g\n",
      "vitamin-b1_100g\n",
      "vitamin-b2_100g\n",
      "vitamin-pp_100g\n",
      "vitamin-b6_100g\n",
      "vitamin-b9_100g\n",
      "folates_100g\n",
      "vitamin-b12_100g\n",
      "biotin_100g\n",
      "pantothenic-acid_100g\n",
      "silica_100g\n",
      "bicarbonate_100g\n",
      "potassium_100g\n",
      "chloride_100g\n",
      "calcium_100g\n",
      "phosphorus_100g\n",
      "iron_100g\n",
      "magnesium_100g\n",
      "zinc_100g\n",
      "copper_100g\n",
      "manganese_100g\n",
      "fluoride_100g\n",
      "selenium_100g\n",
      "chromium_100g\n",
      "molybdenum_100g\n",
      "iodine_100g\n",
      "caffeine_100g\n",
      "taurine_100g\n",
      "ph_100g\n",
      "fruits-vegetables-nuts_100g\n",
      "fruits-vegetables-nuts-dried_100g\n",
      "fruits-vegetables-nuts-estimate_100g\n",
      "fruits-vegetables-nuts-estimate-from-ingredients_100g\n",
      "collagen-meat-protein-ratio_100g\n",
      "cocoa_100g\n",
      "chlorophyl_100g\n",
      "carbon-footprint_100g\n",
      "carbon-footprint-from-meat-or-fish_100g\n",
      "nutrition-score-fr_100g\n",
      "nutrition-score-uk_100g\n",
      "glycemic-index_100g\n",
      "water-hardness_100g\n",
      "choline_100g\n",
      "phylloquinone_100g\n",
      "beta-glucan_100g\n",
      "inositol_100g\n",
      "carnitine_100g\n",
      "sulphate_100g\n",
      "nitrate_100g\n"
     ]
    }
   ],
   "source": [
    "for col in df.columns: print(col)"
   ]
  }
 ],
 "metadata": {
  "kernelspec": {
   "display_name": "Python 3 (ipykernel)",
   "language": "python",
   "name": "python3"
  },
  "language_info": {
   "codemirror_mode": {
    "name": "ipython",
    "version": 3
   },
   "file_extension": ".py",
   "mimetype": "text/x-python",
   "name": "python",
   "nbconvert_exporter": "python",
   "pygments_lexer": "ipython3",
   "version": "3.11.5"
  }
 },
 "nbformat": 4,
 "nbformat_minor": 5
}
